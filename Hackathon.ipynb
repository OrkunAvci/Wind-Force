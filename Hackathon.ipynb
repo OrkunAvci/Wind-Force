{
  "cells": [
    {
      "cell_type": "code",
      "execution_count": null,
      "metadata": {
        "id": "LQvn86LXKdae"
      },
      "outputs": [],
      "source": [
        "import numpy as np\n",
        "import pandas as pd\n",
        "%matplotlib inline\n",
        "import matplotlib.pyplot as plt\n",
        "import seaborn as sns\n",
        "from keras.models import Sequential\n",
        "from keras.layers import LSTM,Dense, Activation, Dropout\n",
        "from keras.callbacks import EarlyStopping\n",
        "from sklearn.preprocessing import MinMaxScaler"
      ]
    },
    {
      "cell_type": "markdown",
      "metadata": {},
      "source": [
        "## Read inputs and peek at the data"
      ]
    },
    {
      "cell_type": "code",
      "execution_count": null,
      "metadata": {
        "id": "NHF8BpnRKtoT"
      },
      "outputs": [],
      "source": [
        "features = pd.read_csv(\"./data/features.csv\")\n",
        "power = pd.read_csv(\"./data/power.csv\")"
      ]
    },
    {
      "cell_type": "code",
      "execution_count": null,
      "metadata": {
        "colab": {
          "base_uri": "https://localhost:8080/",
          "height": 542
        },
        "id": "H2YIKXhdK6_t",
        "outputId": "3e132620-bfcc-4c84-80d8-d8d50087ff78"
      },
      "outputs": [],
      "source": [
        "features.head()"
      ]
    },
    {
      "cell_type": "code",
      "execution_count": null,
      "metadata": {
        "colab": {
          "base_uri": "https://localhost:8080/",
          "height": 206
        },
        "id": "aWjySXIDLaIW",
        "outputId": "80bad76c-0013-4160-d446-6b1412375aba"
      },
      "outputs": [],
      "source": [
        "power.head()"
      ]
    },
    {
      "cell_type": "markdown",
      "metadata": {},
      "source": [
        "All the entries except Timestamp. Refer to [Documentation](https://pandas.pydata.org/docs/reference/api/pandas.DataFrame.iloc.html) on how `iloc` works and [Stackoverflow](https://stackoverflow.com/a/56311678/15160666) for how it is used."
      ]
    },
    {
      "cell_type": "code",
      "execution_count": null,
      "metadata": {
        "colab": {
          "base_uri": "https://localhost:8080/"
        },
        "id": "zy9jY3PVxEAn",
        "outputId": "12b3c4bc-0034-44aa-c834-ce36c0f99f75"
      },
      "outputs": [],
      "source": [
        "values = features.iloc[:, 1:].values"
      ]
    },
    {
      "cell_type": "code",
      "execution_count": null,
      "metadata": {
        "id": "pxnPfBtzw3Mn"
      },
      "outputs": [],
      "source": [
        "df = pd.DataFrame(values, columns=features.columns[1:])"
      ]
    },
    {
      "cell_type": "code",
      "execution_count": null,
      "metadata": {
        "colab": {
          "base_uri": "https://localhost:8080/",
          "height": 904
        },
        "id": "NmNIFahRw8GG",
        "outputId": "e47c7e80-3b9f-453c-d25c-d6a58d183c1c"
      },
      "outputs": [],
      "source": [
        "#df[\"Timestamp\"] = pd.to_datetime(df[\"Timestamp\"]).apply(pd.Timestamp.timestamp) # pd.to_datetime(df[\"Timestamp\"])\n",
        "df"
      ]
    },
    {
      "cell_type": "markdown",
      "metadata": {},
      "source": [
        "## Make a correlation map between features and generate a heatmap of it."
      ]
    },
    {
      "cell_type": "code",
      "execution_count": null,
      "metadata": {
        "id": "bAf5ZEFVuRj6"
      },
      "outputs": [],
      "source": [
        "# Get rid of 1-1 matches to better highlight inter-feature correlations.\n",
        "corrs = df.corr()\n",
        "corrs.replace(1.0, corrs.min().min(), inplace=True)\n",
        "\n",
        "# Upper-right triangle for masking\n",
        "heatmap_mask = np.triu(corrs)\n",
        "\n",
        "# Generate heatmap\n",
        "heatmap = sns.heatmap(data=corrs, annot=True, vmin=0, vmax=corrs.max().max(), mask=heatmap_mask, annot_kws={\"size\":8})\n",
        "heatmap.set_title(\"Coorelation Between Features\", fontdict={\"fontsize\":24}, pad=16)\n",
        "heatmap.set_autoscale_on(True)"
      ]
    },
    {
      "cell_type": "markdown",
      "metadata": {},
      "source": [
        "Save the heatmap"
      ]
    },
    {
      "cell_type": "code",
      "execution_count": null,
      "metadata": {},
      "outputs": [],
      "source": [
        "fig = heatmap.get_figure()\n",
        "fig.set_size_inches([84., 42.])\n",
        "fig.savefig(\"./data/heatmap2.png\", bbox_inches=\"tight\")"
      ]
    },
    {
      "cell_type": "markdown",
      "metadata": {},
      "source": [
        "Line below outputs an array of `<AxesSubplot:>` objects. But the last 5 entries at the end do not have `title`."
      ]
    },
    {
      "cell_type": "code",
      "execution_count": null,
      "metadata": {
        "colab": {
          "base_uri": "https://localhost:8080/",
          "height": 1000
        },
        "id": "NfkxN_1Iu8QH",
        "outputId": "8074f95d-c3f8-4c57-c20b-90b0abba272f"
      },
      "outputs": [],
      "source": [
        "features.hist(bins=50, figsize=(15,14))"
      ]
    },
    {
      "cell_type": "markdown",
      "metadata": {
        "id": "BmfUlTaCLeIm"
      },
      "source": [
        "## Merge csv files"
      ]
    },
    {
      "cell_type": "code",
      "execution_count": null,
      "metadata": {
        "id": "J1SwBMqvK_H3"
      },
      "outputs": [],
      "source": [
        "merged = features.merge(power, on='Timestamp')\n",
        "merged.to_csv(\"./data/final.csv\", index=False)"
      ]
    },
    {
      "cell_type": "code",
      "execution_count": null,
      "metadata": {
        "colab": {
          "base_uri": "https://localhost:8080/",
          "height": 904
        },
        "id": "OpJnO2GJLokU",
        "outputId": "298ca93d-67e4-49d8-c53e-40ceb6789c8b"
      },
      "outputs": [],
      "source": [
        "merged"
      ]
    },
    {
      "cell_type": "code",
      "execution_count": null,
      "metadata": {
        "colab": {
          "base_uri": "https://localhost:8080/"
        },
        "id": "o0PKplhSK8l8",
        "outputId": "11410dcd-027c-4b72-8eac-208b82c59762"
      },
      "outputs": [],
      "source": [
        "merged.info() "
      ]
    },
    {
      "cell_type": "markdown",
      "metadata": {},
      "source": [
        "1) #sns heatmap ---> correlation \n",
        "1.5) # en önemli featureların ne olduğu hakkında araştırma yapılacak.\n",
        "2) 77 ---> 40-50 #sns plot ->>\n",
        "3) #optimization, steepest descent algorithm, rulet(random) ,\n",
        "4) #feature reduction, \n",
        "feaure ,, Correlation incelenecek + null değerler doldurulacak \n",
        "5) information theory --> bilgi teorisi (shannon) -- i*logi = # algoritmalarında en büyük en küçük logaritmasını  \n",
        "2) değeri -->ağırlıklı bir şekilde birleştirme"
      ]
    },
    {
      "cell_type": "code",
      "execution_count": null,
      "metadata": {
        "colab": {
          "base_uri": "https://localhost:8080/",
          "height": 328
        },
        "id": "G6PoRQMqrC_m",
        "outputId": "edbce4ff-c535-4c25-c3cf-c8aa27784225"
      },
      "outputs": [],
      "source": [
        "merged_heatmap = sns.heatmap(data=merged.iloc[:, 1:], annot=True, vmin=0, vmax=1, annot_kws={\"size\":8})"
      ]
    },
    {
      "cell_type": "code",
      "execution_count": null,
      "metadata": {
        "colab": {
          "base_uri": "https://localhost:8080/",
          "height": 462
        },
        "id": "ToBmV5IoLuG3",
        "outputId": "14f2f963-ed18-4bcd-adc5-8653b1c20496"
      },
      "outputs": [],
      "source": [
        "merged.describe()"
      ]
    },
    {
      "cell_type": "code",
      "execution_count": null,
      "metadata": {
        "id": "fq-Xs0eWL8EZ"
      },
      "outputs": [],
      "source": [
        "merged[\"Timestamp\"] = pd.to_datetime(merged[\"Timestamp\"])"
      ]
    },
    {
      "cell_type": "code",
      "execution_count": null,
      "metadata": {
        "id": "9h1kqbCAPuT4"
      },
      "outputs": [],
      "source": [
        "merged_train = merged.iloc[:, 77:78].values"
      ]
    },
    {
      "cell_type": "code",
      "execution_count": null,
      "metadata": {
        "colab": {
          "base_uri": "https://localhost:8080/"
        },
        "id": "a6DLGQtIZ9x4",
        "outputId": "caf12321-e06b-4669-88cd-26a0e310a970"
      },
      "outputs": [],
      "source": [
        "merged_train"
      ]
    },
    {
      "cell_type": "code",
      "execution_count": null,
      "metadata": {
        "id": "rx6ijJnFO7uj"
      },
      "outputs": [],
      "source": [
        "ms = MinMaxScaler()\n",
        "train_set_with_s = ms.fit_transform(merged_train) "
      ]
    },
    {
      "cell_type": "code",
      "execution_count": null,
      "metadata": {
        "id": "VUlsIIQ0P3Tl"
      },
      "outputs": [],
      "source": [
        "X_train = []\n",
        "y_train = []\n",
        "\n",
        "for i in range(50,len(train_set_with_s)):\n",
        "  X_train.append(train_set_with_s[i-50:i, 0])\n",
        "  y_train.append(train_set_with_s[i,0])\n",
        "\n",
        "X_train, y_train = np.array(X_train), np.array(y_train)"
      ]
    },
    {
      "cell_type": "code",
      "execution_count": null,
      "metadata": {
        "id": "Ul9h6RgRaP55"
      },
      "outputs": [],
      "source": [
        "X_train = np.reshape(X_train, (X_train.shape[0], X_train.shape[1], 1))"
      ]
    },
    {
      "cell_type": "code",
      "execution_count": null,
      "metadata": {
        "id": "qfXsKYkVaVoV"
      },
      "outputs": [],
      "source": [
        "model = Sequential()"
      ]
    },
    {
      "cell_type": "code",
      "execution_count": null,
      "metadata": {
        "id": "LXGTAuBsaYA5"
      },
      "outputs": [],
      "source": [
        "model.add(LSTM(units=20, activation=\"selu\", return_sequences=True, input_shape=(X_train.shape[1], 1)))\n",
        "model.add(Dropout(0.2)) #hyperparameter tuning -- GridSearch, #Dimensionality reduciton(PCa,regularization, )"
      ]
    },
    {
      "cell_type": "code",
      "execution_count": null,
      "metadata": {
        "id": "041_yPNsaaU3"
      },
      "outputs": [],
      "source": [
        "model.add(LSTM(units=30, activation=\"selu\",return_sequences=True ))\n",
        "model.add(Dropout(0.2))"
      ]
    },
    {
      "cell_type": "code",
      "execution_count": null,
      "metadata": {
        "id": "UZl_ewZlacQD"
      },
      "outputs": [],
      "source": [
        "model.add(LSTM(units=40, activation=\"selu\", return_sequences=True))\n",
        "model.add(Dropout(0.3))"
      ]
    },
    {
      "cell_type": "code",
      "execution_count": null,
      "metadata": {
        "id": "E3LUe9POadss"
      },
      "outputs": [],
      "source": [
        "model.add(LSTM(units=50, activation=\"selu\"))\n",
        "model.add(Dropout(0.3))"
      ]
    },
    {
      "cell_type": "code",
      "execution_count": null,
      "metadata": {
        "id": "3ghRNuVjafYl"
      },
      "outputs": [],
      "source": [
        "model.add(Dense(units=1))"
      ]
    },
    {
      "cell_type": "code",
      "execution_count": null,
      "metadata": {
        "id": "mgmuV6pOahCU"
      },
      "outputs": [],
      "source": [
        "model.compile(optimizer=\"adam\", loss=\"mean_squared_error\")"
      ]
    },
    {
      "cell_type": "code",
      "execution_count": null,
      "metadata": {
        "id": "WL2ePQzJai49"
      },
      "outputs": [],
      "source": [
        "earlyStopping = EarlyStopping(monitor=\"val_loss\",mode=\"min\",verbose=1,patience=25)"
      ]
    },
    {
      "cell_type": "code",
      "execution_count": null,
      "metadata": {
        "colab": {
          "base_uri": "https://localhost:8080/"
        },
        "id": "hSFL22YQalgr",
        "outputId": "033e2cb4-718b-4450-dda7-3c813cb80714"
      },
      "outputs": [],
      "source": [
        "model.fit(x=X_train, y=y_train, epochs = 1, batch_size=64, verbose = 1, callbacks=[earlyStopping])"
      ]
    },
    {
      "cell_type": "code",
      "execution_count": null,
      "metadata": {
        "id": "b7yFQutranjF"
      },
      "outputs": [],
      "source": [
        "df_test = pd.read_csv(\"/content/sample_submission.csv\")"
      ]
    },
    {
      "cell_type": "code",
      "execution_count": null,
      "metadata": {
        "colab": {
          "base_uri": "https://localhost:8080/",
          "height": 423
        },
        "id": "_G64H5Aya1ww",
        "outputId": "190c0bcd-c78a-4d98-f319-fd701118d4e0"
      },
      "outputs": [],
      "source": [
        "df_test"
      ]
    },
    {
      "cell_type": "code",
      "execution_count": null,
      "metadata": {
        "id": "yggfj-XOcVSA"
      },
      "outputs": [],
      "source": [
        "df_test.dropna(axis=0, inplace=True)"
      ]
    },
    {
      "cell_type": "code",
      "execution_count": null,
      "metadata": {
        "id": "U_rB5nGacZfz"
      },
      "outputs": [],
      "source": [
        "real_pressure_value = df_test.iloc[:, 2:].values"
      ]
    },
    {
      "cell_type": "code",
      "execution_count": null,
      "metadata": {
        "colab": {
          "base_uri": "https://localhost:8080/"
        },
        "id": "d_74rfpmcqX6",
        "outputId": "0ce74a63-3b2d-45a4-ccbf-70659332eed2"
      },
      "outputs": [],
      "source": [
        "df_test"
      ]
    },
    {
      "cell_type": "code",
      "execution_count": null,
      "metadata": {
        "id": "lrR2UpYwcu0r"
      },
      "outputs": [],
      "source": [
        "df_test = np.ndarray(df_test)"
      ]
    },
    {
      "cell_type": "code",
      "execution_count": null,
      "metadata": {
        "colab": {
          "base_uri": "https://localhost:8080/",
          "height": 165
        },
        "id": "Red4Sn1oc8Ar",
        "outputId": "c7d61cb8-0df1-4713-912c-f446f8676b31"
      },
      "outputs": [],
      "source": [
        "df_test"
      ]
    },
    {
      "cell_type": "code",
      "execution_count": null,
      "metadata": {
        "colab": {
          "base_uri": "https://localhost:8080/",
          "height": 183
        },
        "id": "2yiJ0ZrOciV6",
        "outputId": "d0c4eec8-b03b-4e6d-b09e-6e4f4524f993"
      },
      "outputs": [],
      "source": [
        "\n",
        "df_test.reshape((df_test, df_test[0], df_test[1], 1))"
      ]
    },
    {
      "cell_type": "code",
      "execution_count": null,
      "metadata": {
        "colab": {
          "base_uri": "https://localhost:8080/",
          "height": 311
        },
        "id": "yVfzJ01qccqs",
        "outputId": "0e99b991-27ad-49af-815a-4b2be4dd3c39"
      },
      "outputs": [],
      "source": [
        "y_pred = model.predict(df_test)"
      ]
    }
  ],
  "metadata": {
    "colab": {
      "name": "Enerjisa-Hackathon.ipynb",
      "provenance": []
    },
    "kernelspec": {
      "display_name": "Python 3",
      "name": "python3"
    },
    "language_info": {
      "codemirror_mode": {
        "name": "ipython",
        "version": 3
      },
      "file_extension": ".py",
      "mimetype": "text/x-python",
      "name": "python",
      "nbconvert_exporter": "python",
      "pygments_lexer": "ipython3",
      "version": "3.9.4"
    }
  },
  "nbformat": 4,
  "nbformat_minor": 0
}
